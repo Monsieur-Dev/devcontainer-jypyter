{
 "cells": [
  {
   "cell_type": "markdown",
   "id": "7cae95ce-64f9-4eeb-a595-650c80a3c9e4",
   "metadata": {},
   "source": [
    "# Sample Jupyter Notebook 📘"
   ]
  },
  {
   "cell_type": "markdown",
   "id": "e15e3ecf",
   "metadata": {},
   "source": [
    "## ⚙️ Let's run a nodejs script !"
   ]
  },
  {
   "cell_type": "code",
   "execution_count": null,
   "id": "4f44a971-71f9-4d48-ab41-326c13f43638",
   "metadata": {},
   "outputs": [],
   "source": [
    "import subprocess\n",
    "subprocess.run([\"node\", \"./assets/script.js\"]) "
   ]
  },
  {
   "cell_type": "markdown",
   "id": "e2eb8bcb",
   "metadata": {},
   "source": [
    "## 🦆 Configuring DuckDB"
   ]
  },
  {
   "cell_type": "code",
   "execution_count": null,
   "id": "f35d2606-891f-4c12-ad96-540440d70eb1",
   "metadata": {},
   "outputs": [],
   "source": [
    "%load_ext sql\n",
    "%sql duckdb://\n",
    "%config SqlMagic.displaylimit = None"
   ]
  },
  {
   "cell_type": "markdown",
   "id": "10849aff",
   "metadata": {},
   "source": [
    "## 📄 Example of a request on a json file"
   ]
  },
  {
   "cell_type": "code",
   "execution_count": null,
   "id": "3ace24db",
   "metadata": {},
   "outputs": [],
   "source": [
    "%%sql\n",
    "SELECT *\n",
    "FROM read_json_auto('./assets/data.json')"
   ]
  },
  {
   "cell_type": "markdown",
   "id": "caf62b1a",
   "metadata": {},
   "source": [
    "## 📈 Graph example\n",
    "\n",
    "> More examples here: https://www.geeksforgeeks.org/data-visualization-in-jupyter-notebook/"
   ]
  },
  {
   "cell_type": "code",
   "execution_count": null,
   "id": "d1480507",
   "metadata": {},
   "outputs": [],
   "source": [
    "import matplotlib.pyplot as plt\n",
    "resultset = %sql \\\n",
    "    SELECT * \\\n",
    "    FROM read_json_auto('./assets/data.json')\n",
    "x = list(map(lambda x: x.value, resultset))\n",
    "y = list(map(lambda x: x.message, resultset))\n",
    "plt.title('Pie Chart')\n",
    "plt.pie(x, labels=y)\n",
    "plt.show()"
   ]
  },
  {
   "cell_type": "markdown",
   "id": "3aca42e8",
   "metadata": {},
   "source": [
    "## 📦 Playing with Jupyter variables"
   ]
  },
  {
   "cell_type": "code",
   "execution_count": null,
   "id": "2553c553",
   "metadata": {},
   "outputs": [],
   "source": [
    "message=\"Hello World from a Python variable\""
   ]
  },
  {
   "cell_type": "code",
   "execution_count": null,
   "id": "6a2bd9f9",
   "metadata": {},
   "outputs": [],
   "source": [
    "print(message)"
   ]
  }
 ],
 "metadata": {
  "kernelspec": {
   "display_name": "Python 3 (ipykernel)",
   "language": "python",
   "name": "python3"
  },
  "language_info": {
   "codemirror_mode": {
    "name": "ipython",
    "version": 3
   },
   "file_extension": ".py",
   "mimetype": "text/x-python",
   "name": "python",
   "nbconvert_exporter": "python",
   "pygments_lexer": "ipython3",
   "version": "3.12.9"
  }
 },
 "nbformat": 4,
 "nbformat_minor": 5
}
